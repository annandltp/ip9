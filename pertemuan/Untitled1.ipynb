{
 "cells": [
  {
   "cell_type": "code",
   "execution_count": 1,
   "id": "a9ddbb9b",
   "metadata": {},
   "outputs": [],
   "source": [
    "import pandas as pd"
   ]
  },
  {
   "cell_type": "code",
   "execution_count": 3,
   "id": "82797ec8",
   "metadata": {},
   "outputs": [],
   "source": [
    "data = pd.read_csv('../assets/data_bar.csv')"
   ]
  },
  {
   "cell_type": "code",
   "execution_count": 4,
   "id": "782a71ad",
   "metadata": {},
   "outputs": [
    {
     "data": {
      "text/html": [
       "<div>\n",
       "<style scoped>\n",
       "    .dataframe tbody tr th:only-of-type {\n",
       "        vertical-align: middle;\n",
       "    }\n",
       "\n",
       "    .dataframe tbody tr th {\n",
       "        vertical-align: top;\n",
       "    }\n",
       "\n",
       "    .dataframe thead th {\n",
       "        text-align: right;\n",
       "    }\n",
       "</style>\n",
       "<table border=\"1\" class=\"dataframe\">\n",
       "  <thead>\n",
       "    <tr style=\"text-align: right;\">\n",
       "      <th></th>\n",
       "      <th>Responder_id</th>\n",
       "      <th>LanguagesWorkedWith</th>\n",
       "    </tr>\n",
       "  </thead>\n",
       "  <tbody>\n",
       "    <tr>\n",
       "      <th>0</th>\n",
       "      <td>1</td>\n",
       "      <td>HTML/CSS;Java;JavaScript;Python</td>\n",
       "    </tr>\n",
       "    <tr>\n",
       "      <th>1</th>\n",
       "      <td>2</td>\n",
       "      <td>C++;HTML/CSS;Python</td>\n",
       "    </tr>\n",
       "    <tr>\n",
       "      <th>2</th>\n",
       "      <td>3</td>\n",
       "      <td>HTML/CSS</td>\n",
       "    </tr>\n",
       "    <tr>\n",
       "      <th>3</th>\n",
       "      <td>4</td>\n",
       "      <td>C;C++;C#;Python;SQL</td>\n",
       "    </tr>\n",
       "    <tr>\n",
       "      <th>4</th>\n",
       "      <td>5</td>\n",
       "      <td>C++;HTML/CSS;Java;JavaScript;Python;SQL;VBA</td>\n",
       "    </tr>\n",
       "    <tr>\n",
       "      <th>...</th>\n",
       "      <td>...</td>\n",
       "      <td>...</td>\n",
       "    </tr>\n",
       "    <tr>\n",
       "      <th>87564</th>\n",
       "      <td>88182</td>\n",
       "      <td>HTML/CSS;Java;JavaScript</td>\n",
       "    </tr>\n",
       "    <tr>\n",
       "      <th>87565</th>\n",
       "      <td>88212</td>\n",
       "      <td>HTML/CSS;JavaScript;Python</td>\n",
       "    </tr>\n",
       "    <tr>\n",
       "      <th>87566</th>\n",
       "      <td>88282</td>\n",
       "      <td>Bash/Shell/PowerShell;Go;HTML/CSS;JavaScript;W...</td>\n",
       "    </tr>\n",
       "    <tr>\n",
       "      <th>87567</th>\n",
       "      <td>88377</td>\n",
       "      <td>HTML/CSS;JavaScript;Other(s):</td>\n",
       "    </tr>\n",
       "    <tr>\n",
       "      <th>87568</th>\n",
       "      <td>88863</td>\n",
       "      <td>Bash/Shell/PowerShell;HTML/CSS;Java;JavaScript...</td>\n",
       "    </tr>\n",
       "  </tbody>\n",
       "</table>\n",
       "<p>87569 rows × 2 columns</p>\n",
       "</div>"
      ],
      "text/plain": [
       "       Responder_id                                LanguagesWorkedWith\n",
       "0                 1                    HTML/CSS;Java;JavaScript;Python\n",
       "1                 2                                C++;HTML/CSS;Python\n",
       "2                 3                                           HTML/CSS\n",
       "3                 4                                C;C++;C#;Python;SQL\n",
       "4                 5        C++;HTML/CSS;Java;JavaScript;Python;SQL;VBA\n",
       "...             ...                                                ...\n",
       "87564         88182                           HTML/CSS;Java;JavaScript\n",
       "87565         88212                         HTML/CSS;JavaScript;Python\n",
       "87566         88282  Bash/Shell/PowerShell;Go;HTML/CSS;JavaScript;W...\n",
       "87567         88377                      HTML/CSS;JavaScript;Other(s):\n",
       "87568         88863  Bash/Shell/PowerShell;HTML/CSS;Java;JavaScript...\n",
       "\n",
       "[87569 rows x 2 columns]"
      ]
     },
     "execution_count": 4,
     "metadata": {},
     "output_type": "execute_result"
    }
   ],
   "source": [
    "data"
   ]
  },
  {
   "cell_type": "code",
   "execution_count": 6,
   "id": "498dfe05",
   "metadata": {},
   "outputs": [],
   "source": [
    "from collections import Counter"
   ]
  },
  {
   "cell_type": "code",
   "execution_count": 9,
   "id": "f47bb9b1",
   "metadata": {},
   "outputs": [],
   "source": [
    "c = Counter(['python', 'js', 'C', 'C++', 'js', 'python', 'js'])"
   ]
  },
  {
   "cell_type": "code",
   "execution_count": 10,
   "id": "fbb0208c",
   "metadata": {},
   "outputs": [
    {
     "data": {
      "text/plain": [
       "Counter({'python': 2, 'js': 3, 'C': 1, 'C++': 1})"
      ]
     },
     "execution_count": 10,
     "metadata": {},
     "output_type": "execute_result"
    }
   ],
   "source": [
    "c"
   ]
  },
  {
   "cell_type": "code",
   "execution_count": 11,
   "id": "2dfa6e0e",
   "metadata": {},
   "outputs": [
    {
     "data": {
      "text/plain": [
       "Counter({'python': 3, 'js': 3, 'C': 1, 'C++': 2})"
      ]
     },
     "execution_count": 11,
     "metadata": {},
     "output_type": "execute_result"
    }
   ],
   "source": [
    "c.update(['C++', 'python'])\n",
    "c"
   ]
  },
  {
   "cell_type": "code",
   "execution_count": 12,
   "id": "b8a00882",
   "metadata": {},
   "outputs": [],
   "source": [
    "ids = data['Responder_id']\n",
    "lang_response = data['LanguagesWorkedWith']\n",
    "\n",
    "languange_counter = Counter()"
   ]
  },
  {
   "cell_type": "code",
   "execution_count": 13,
   "id": "bb76eedd",
   "metadata": {},
   "outputs": [],
   "source": [
    "for response in lang_response:\n",
    "    languange_counter.update(response.split(';'))"
   ]
  },
  {
   "cell_type": "code",
   "execution_count": 14,
   "id": "b169a9a3",
   "metadata": {},
   "outputs": [
    {
     "name": "stdout",
     "output_type": "stream",
     "text": [
      "Counter({'JavaScript': 59219, 'HTML/CSS': 55466, 'SQL': 47544, 'Python': 36443, 'Java': 35917, 'Bash/Shell/PowerShell': 31991, 'C#': 27097, 'PHP': 23030, 'C++': 20524, 'TypeScript': 18523, 'C': 18017, 'Other(s):': 7920, 'Ruby': 7331, 'Go': 7201, 'Assembly': 5833, 'Swift': 5744, 'Kotlin': 5620, 'R': 5048, 'VBA': 4781, 'Objective-C': 4191, 'Scala': 3309, 'Rust': 2794, 'Dart': 1683, 'Elixir': 1260, 'Clojure': 1254, 'WebAssembly': 1015, 'F#': 973, 'Erlang': 777})\n"
     ]
    }
   ],
   "source": [
    "print(languange_counter)"
   ]
  },
  {
   "cell_type": "code",
   "execution_count": 15,
   "id": "1313c0f1",
   "metadata": {},
   "outputs": [
    {
     "name": "stdout",
     "output_type": "stream",
     "text": [
      "[('JavaScript', 59219), ('HTML/CSS', 55466), ('SQL', 47544), ('Python', 36443), ('Java', 35917), ('Bash/Shell/PowerShell', 31991), ('C#', 27097), ('PHP', 23030), ('C++', 20524), ('TypeScript', 18523), ('C', 18017), ('Other(s):', 7920), ('Ruby', 7331), ('Go', 7201), ('Assembly', 5833)]\n"
     ]
    }
   ],
   "source": [
    "print(languange_counter.most_common(15))"
   ]
  },
  {
   "cell_type": "code",
   "execution_count": 16,
   "id": "9d042192",
   "metadata": {},
   "outputs": [],
   "source": [
    "languange = []\n",
    "popularity = []\n",
    "\n",
    "for item in languange_counter.most_common(15) :\n",
    "    languange.append(item[0])\n",
    "    popularity.append(item[1])"
   ]
  },
  {
   "cell_type": "code",
   "execution_count": 17,
   "id": "d74b902f",
   "metadata": {},
   "outputs": [
    {
     "name": "stdout",
     "output_type": "stream",
     "text": [
      "['JavaScript', 'HTML/CSS', 'SQL', 'Python', 'Java', 'Bash/Shell/PowerShell', 'C#', 'PHP', 'C++', 'TypeScript', 'C', 'Other(s):', 'Ruby', 'Go', 'Assembly']\n"
     ]
    }
   ],
   "source": [
    "print(languange)"
   ]
  },
  {
   "cell_type": "code",
   "execution_count": 18,
   "id": "c18bb84a",
   "metadata": {},
   "outputs": [
    {
     "name": "stdout",
     "output_type": "stream",
     "text": [
      "[59219, 55466, 47544, 36443, 35917, 31991, 27097, 23030, 20524, 18523, 18017, 7920, 7331, 7201, 5833]\n"
     ]
    }
   ],
   "source": [
    "print(popularity)"
   ]
  },
  {
   "cell_type": "markdown",
   "id": "06bbe168",
   "metadata": {},
   "source": [
    "# Add to bar chart"
   ]
  },
  {
   "cell_type": "code",
   "execution_count": 27,
   "id": "7258ae8a",
   "metadata": {},
   "outputs": [],
   "source": [
    "import matplotlib as mpl\n",
    "import matplotlib.pyplot as plt\n",
    "%matplotlib inline\n",
    "\n",
    "import numpy as np"
   ]
  },
  {
   "cell_type": "code",
   "execution_count": 24,
   "id": "4d383d63",
   "metadata": {},
   "outputs": [
    {
     "data": {
      "text/plain": [
       "Text(0.5, 1.0, 'Most Popular Language')"
      ]
     },
     "execution_count": 24,
     "metadata": {},
     "output_type": "execute_result"
    },
    {
     "data": {
      "image/png": "[encoded data removed]",
      "text/plain": [
       "<Figure size 432x288 with 1 Axes>"
      ]
     },
     "metadata": {
      "needs_background": "light"
     },
     "output_type": "display_data"
    }
   ],
   "source": [
    "plt.bar(languange, popularity)\n",
    "\n",
    "plt.title('Most Popular Language')"
   ]
  },
  {
   "cell_type": "code",
   "execution_count": 36,
   "id": "18f56573",
   "metadata": {},
   "outputs": [
    {
     "data": {
      "image/png": "[encoded data removed]",
      "text/plain": [
       "<Figure size 432x288 with 1 Axes>"
      ]
     },
     "metadata": {
      "needs_background": "light"
     },
     "output_type": "display_data"
    }
   ],
   "source": [
    "x = ['kls2', 'kls3', 'kls4', 'kls5', 'kls6']\n",
    "men = [92, 70, 55, 85, 66]\n",
    "women = [65, 92, 80, 75, 89]\n",
    "\n",
    "x_indexes = np.arange(len(x))\n",
    "width = 0.25\n",
    "\n",
    "plt.bar(x_indexes-(width/2), men, color='k', label = 'Men', width = width)\n",
    "plt.bar(x_indexes+(width/2), women, color='r', label = 'Women', width = width)\n",
    "\n",
    "plt.xticks(ticks = x_indexes, labels = x)\n",
    "plt.legend()\n",
    "plt.show()\n"
   ]
  },
  {
   "cell_type": "code",
   "execution_count": 37,
   "id": "5659ba87",
   "metadata": {},
   "outputs": [
    {
     "data": {
      "image/png": "[encoded data removed]",
      "text/plain": [
       "<Figure size 432x288 with 1 Axes>"
      ]
     },
     "metadata": {
      "needs_background": "light"
     },
     "output_type": "display_data"
    }
   ],
   "source": [
    "x = ['kls2', 'kls3', 'kls4', 'kls5', 'kls6']\n",
    "men = [92, 70, 55, 85, 66]\n",
    "women = [65, 92, 80, 75, 89]\n",
    "\n",
    "plt.bar(x, men)\n",
    "plt.bar(x, women)\n",
    "plt.show()"
   ]
  },
  {
   "cell_type": "code",
   "execution_count": 39,
   "id": "23e90348",
   "metadata": {},
   "outputs": [],
   "source": [
    "x_index = np.arange(len(x))\n",
    "width = 0.25"
   ]
  },
  {
   "cell_type": "code",
   "execution_count": 43,
   "id": "f7774b86",
   "metadata": {},
   "outputs": [
    {
     "data": {
      "image/png": "[encoded data removed]",
      "text/plain": [
       "<Figure size 432x288 with 1 Axes>"
      ]
     },
     "metadata": {
      "needs_background": "light"
     },
     "output_type": "display_data"
    }
   ],
   "source": [
    "plt.bar(x_index-width*0.5, men, width = width)\n",
    "plt.bar(x_index+width*0.5, women, width = width)\n",
    "plt.show()"
   ]
  },
  {
   "cell_type": "code",
   "execution_count": 45,
   "id": "7a0cee8d",
   "metadata": {},
   "outputs": [
    {
     "data": {
      "image/png": "[encoded data removed]",
      "text/plain": [
       "<Figure size 432x288 with 1 Axes>"
      ]
     },
     "metadata": {
      "needs_background": "light"
     },
     "output_type": "display_data"
    }
   ],
   "source": [
    "plt.bar(x_index-width*0.5, men, width = width, color=\"green\")\n",
    "plt.bar(x_index+width*0.5, women, width = width, color=\"salmon\")\n",
    "plt.xticks(ticks = x_index, labels = x)\n",
    "\n",
    "plt.show()"
   ]
  },
  {
   "cell_type": "code",
   "execution_count": null,
   "id": "ac7c2869",
   "metadata": {},
   "outputs": [],
   "source": []
  }
 ],
 "metadata": {
  "kernelspec": {
   "display_name": "Python 3",
   "language": "python",
   "name": "python3"
  },
  "language_info": {
   "codemirror_mode": {
    "name": "ipython",
    "version": 3
   },
   "file_extension": ".py",
   "mimetype": "text/x-python",
   "name": "python",
   "nbconvert_exporter": "python",
   "pygments_lexer": "ipython3",
   "version": "3.8.8"
  }
 },
 "nbformat": 4,
 "nbformat_minor": 5
}
