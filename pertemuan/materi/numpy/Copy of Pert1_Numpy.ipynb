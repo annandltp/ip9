{
 "cells": [
  {
   "cell_type": "markdown",
   "metadata": {
    "id": "nj0aJj-pbRAu"
   },
   "source": [
    "# NUMPY - Multidimensional Data Arrays"
   ]
  },
  {
   "cell_type": "markdown",
   "metadata": {
    "id": "xF2L6klRbRAz"
   },
   "source": [
    "It is a package that provide high-performance vector, matrix and higher-dimensional data structures for Python. NumPy brings the computational power of languages like C and Fortran to Python, a language much easier to learn and use."
   ]
  },
  {
   "cell_type": "code",
   "execution_count": 24,
   "metadata": {
    "executionInfo": {
     "elapsed": 187,
     "status": "ok",
     "timestamp": 1622886378195,
     "user": {
      "displayName": "Faris Qadri",
      "photoUrl": "",
      "userId": "03663442237226615559"
     },
     "user_tz": -120
    },
    "id": "voOfPbgnbRA1"
   },
   "outputs": [],
   "source": [
    "import numpy as np"
   ]
  },
  {
   "cell_type": "code",
   "execution_count": 3,
   "metadata": {
    "colab": {
     "base_uri": "https://localhost:8080/",
     "height": 35
    },
    "executionInfo": {
     "elapsed": 188,
     "status": "ok",
     "timestamp": 1622886379336,
     "user": {
      "displayName": "Faris Qadri",
      "photoUrl": "",
      "userId": "03663442237226615559"
     },
     "user_tz": -120
    },
    "id": "zoUtRpwxbRA2",
    "outputId": "33339124-3b98-4173-b3cd-3be47fd8db8d",
    "scrolled": true
   },
   "outputs": [
    {
     "data": {
      "text/plain": [
       "'1.20.1'"
      ]
     },
     "execution_count": 3,
     "metadata": {},
     "output_type": "execute_result"
    }
   ],
   "source": [
    "np.__version__"
   ]
  },
  {
   "cell_type": "code",
   "execution_count": 26,
   "metadata": {
    "colab": {
     "base_uri": "https://localhost:8080/"
    },
    "executionInfo": {
     "elapsed": 195,
     "status": "ok",
     "timestamp": 1622886399786,
     "user": {
      "displayName": "Faris Qadri",
      "photoUrl": "",
      "userId": "03663442237226615559"
     },
     "user_tz": -120
    },
    "id": "PW22Bve9bRA3",
    "outputId": "3eceb06f-665e-4505-8819-b8e39c2b949c"
   },
   "outputs": [
    {
     "name": "stdout",
     "output_type": "stream",
     "text": [
      "add(x1, x2, /, out=None, *, where=True, casting='same_kind', order='K', dtype=None, subok=True[, signature, extobj])\n",
      "\n",
      "Add arguments element-wise.\n",
      "\n",
      "Parameters\n",
      "----------\n",
      "x1, x2 : array_like\n",
      "    The arrays to be added.\n",
      "    If ``x1.shape != x2.shape``, they must be broadcastable to a common\n",
      "    shape (which becomes the shape of the output).\n",
      "out : ndarray, None, or tuple of ndarray and None, optional\n",
      "    A location into which the result is stored. If provided, it must have\n",
      "    a shape that the inputs broadcast to. If not provided or None,\n",
      "    a freshly-allocated array is returned. A tuple (possible only as a\n",
      "    keyword argument) must have length equal to the number of outputs.\n",
      "where : array_like, optional\n",
      "    This condition is broadcast over the input. At locations where the\n",
      "    condition is True, the `out` array will be set to the ufunc result.\n",
      "    Elsewhere, the `out` array will retain its original value.\n",
      "    Note that if an uninitialized `out` array is created via the default\n",
      "    ``out=None``, locations within it where the condition is False will\n",
      "    remain uninitialized.\n",
      "**kwargs\n",
      "    For other keyword-only arguments, see the\n",
      "    :ref:`ufunc docs <ufuncs.kwargs>`.\n",
      "\n",
      "Returns\n",
      "-------\n",
      "add : ndarray or scalar\n",
      "    The sum of `x1` and `x2`, element-wise.\n",
      "    This is a scalar if both `x1` and `x2` are scalars.\n",
      "\n",
      "Notes\n",
      "-----\n",
      "Equivalent to `x1` + `x2` in terms of array broadcasting.\n",
      "\n",
      "Examples\n",
      "--------\n",
      ">>> np.add(1.0, 4.0)\n",
      "5.0\n",
      ">>> x1 = np.arange(9.0).reshape((3, 3))\n",
      ">>> x2 = np.arange(3.0)\n",
      ">>> np.add(x1, x2)\n",
      "array([[  0.,   2.,   4.],\n",
      "       [  3.,   5.,   7.],\n",
      "       [  6.,   8.,  10.]])\n",
      "\n",
      "The ``+`` operator can be used as a shorthand for ``np.add`` on ndarrays.\n",
      "\n",
      ">>> x1 = np.arange(9.0).reshape((3, 3))\n",
      ">>> x2 = np.arange(3.0)\n",
      ">>> x1 + x2\n",
      "array([[ 0.,  2.,  4.],\n",
      "       [ 3.,  5.,  7.],\n",
      "       [ 6.,  8., 10.]])\n"
     ]
    }
   ],
   "source": [
    "np.info(np.add)"
   ]
  },
  {
   "cell_type": "markdown",
   "metadata": {
    "id": "dlYQa61wbRA3"
   },
   "source": [
    "## What is Array?"
   ]
  },
  {
   "cell_type": "markdown",
   "metadata": {
    "id": "4Z6oL4mCbRA4"
   },
   "source": [
    "![](image/array.png)"
   ]
  },
  {
   "cell_type": "code",
   "execution_count": 5,
   "metadata": {
    "executionInfo": {
     "elapsed": 219,
     "status": "ok",
     "timestamp": 1622886410039,
     "user": {
      "displayName": "Faris Qadri",
      "photoUrl": "",
      "userId": "03663442237226615559"
     },
     "user_tz": -120
    },
    "id": "gQhoHsJtbRA4"
   },
   "outputs": [],
   "source": [
    "# Python List\n",
    "\n",
    "a = [1, 2, 3, 4]\n",
    "b = [5, 6, 7, 8]"
   ]
  },
  {
   "cell_type": "code",
   "execution_count": 6,
   "metadata": {
    "colab": {
     "base_uri": "https://localhost:8080/",
     "height": 195
    },
    "executionInfo": {
     "elapsed": 192,
     "status": "error",
     "timestamp": 1622886431561,
     "user": {
      "displayName": "Faris Qadri",
      "photoUrl": "",
      "userId": "03663442237226615559"
     },
     "user_tz": -120
    },
    "id": "TAm0x_eZbRA5",
    "outputId": "5655cf34-aaad-4745-bb11-8d4c32b08c9b",
    "scrolled": true
   },
   "outputs": [
    {
     "name": "stdout",
     "output_type": "stream",
     "text": [
      "[1, 2, 3, 4, 5, 6, 7, 8]\n"
     ]
    },
    {
     "ename": "TypeError",
     "evalue": "can't multiply sequence by non-int of type 'list'",
     "output_type": "error",
     "traceback": [
      "\u001b[1;31m---------------------------------------------------------------------------\u001b[0m",
      "\u001b[1;31mTypeError\u001b[0m                                 Traceback (most recent call last)",
      "\u001b[1;32m<ipython-input-6-8da66cc73869>\u001b[0m in \u001b[0;36m<module>\u001b[1;34m\u001b[0m\n\u001b[0;32m      1\u001b[0m \u001b[0mprint\u001b[0m\u001b[1;33m(\u001b[0m\u001b[0ma\u001b[0m\u001b[1;33m+\u001b[0m\u001b[0mb\u001b[0m\u001b[1;33m)\u001b[0m\u001b[1;33m\u001b[0m\u001b[1;33m\u001b[0m\u001b[0m\n\u001b[1;32m----> 2\u001b[1;33m \u001b[0mprint\u001b[0m\u001b[1;33m(\u001b[0m\u001b[0ma\u001b[0m\u001b[1;33m*\u001b[0m\u001b[0mb\u001b[0m\u001b[1;33m)\u001b[0m\u001b[1;33m\u001b[0m\u001b[1;33m\u001b[0m\u001b[0m\n\u001b[0m",
      "\u001b[1;31mTypeError\u001b[0m: can't multiply sequence by non-int of type 'list'"
     ]
    }
   ],
   "source": [
    "print(a+b)\n",
    "print(a*b)"
   ]
  },
  {
   "cell_type": "markdown",
   "metadata": {
    "id": "ztOmgYEKbRA6"
   },
   "source": [
    "In the `numpy` package the terminology used for vectors, matrices and higher-dimensional data sets is *array*. \n",
    "\n"
   ]
  },
  {
   "cell_type": "code",
   "execution_count": 7,
   "metadata": {
    "colab": {
     "base_uri": "https://localhost:8080/"
    },
    "executionInfo": {
     "elapsed": 202,
     "status": "ok",
     "timestamp": 1622886910409,
     "user": {
      "displayName": "Faris Qadri",
      "photoUrl": "",
      "userId": "03663442237226615559"
     },
     "user_tz": -120
    },
    "id": "cJ6GrGdubRA6",
    "outputId": "074be986-a112-4997-a22d-ea28fb5bccbb"
   },
   "outputs": [
    {
     "name": "stdout",
     "output_type": "stream",
     "text": [
      "[ 6  8 10 12]\n",
      "[0.2        0.33333333 0.42857143 0.5       ]\n"
     ]
    }
   ],
   "source": [
    "a_array = np.array(a)\n",
    "b_array = np.array(b)\n",
    "\n",
    "print(a_array + b_array)\n",
    "print(a_array / b_array)"
   ]
  },
  {
   "cell_type": "markdown",
   "metadata": {
    "id": "lM0ld3dTbRA7"
   },
   "source": [
    "## Creating `numpy` arrays"
   ]
  },
  {
   "cell_type": "markdown",
   "metadata": {
    "id": "BITDwP7_bRA7"
   },
   "source": [
    "There are some ways to initialize new numpy arrays:\n",
    "* a Python list or tuples\n",
    "* using functions that are dedicated to generating numpy arrays, such as `arange`, `linspace`, etc.\n",
    "* reading data from files"
   ]
  },
  {
   "cell_type": "markdown",
   "metadata": {
    "id": "yqBkGxi-bRA8"
   },
   "source": [
    "### Lists"
   ]
  },
  {
   "cell_type": "code",
   "execution_count": 8,
   "metadata": {
    "colab": {
     "base_uri": "https://localhost:8080/"
    },
    "executionInfo": {
     "elapsed": 188,
     "status": "ok",
     "timestamp": 1622886948769,
     "user": {
      "displayName": "Faris Qadri",
      "photoUrl": "",
      "userId": "03663442237226615559"
     },
     "user_tz": -120
    },
    "id": "8u4xCP3TbRA8",
    "outputId": "1ed41e61-6352-47ce-c96c-3102404eb649"
   },
   "outputs": [
    {
     "data": {
      "text/plain": [
       "(5,)"
      ]
     },
     "execution_count": 8,
     "metadata": {},
     "output_type": "execute_result"
    }
   ],
   "source": [
    "# vector: the argument to the array function is a list\n",
    "v = np.array([1, 2, 3, 4, 5])\n",
    "\n",
    "v.shape"
   ]
  },
  {
   "cell_type": "code",
   "execution_count": 9,
   "metadata": {
    "colab": {
     "base_uri": "https://localhost:8080/"
    },
    "executionInfo": {
     "elapsed": 193,
     "status": "ok",
     "timestamp": 1622886968806,
     "user": {
      "displayName": "Faris Qadri",
      "photoUrl": "",
      "userId": "03663442237226615559"
     },
     "user_tz": -120
    },
    "id": "QR-AqmVgbRA9",
    "outputId": "ddb723cf-6691-44a1-f35b-213d9ef23db5"
   },
   "outputs": [
    {
     "data": {
      "text/plain": [
       "(2, 3)"
      ]
     },
     "execution_count": 9,
     "metadata": {},
     "output_type": "execute_result"
    }
   ],
   "source": [
    "# matrix: the argument to the array function is a nested list\n",
    "m = np.array([[1, 2, 3], [4, 5, 6]])\n",
    "\n",
    "m.shape"
   ]
  },
  {
   "cell_type": "markdown",
   "metadata": {
    "id": "Jh2DMePybRA9"
   },
   "source": [
    "The `v` and `m` objects are both of the type `ndarray` that the `numpy` module provides."
   ]
  },
  {
   "cell_type": "code",
   "execution_count": 10,
   "metadata": {
    "colab": {
     "base_uri": "https://localhost:8080/"
    },
    "executionInfo": {
     "elapsed": 183,
     "status": "ok",
     "timestamp": 1622886979789,
     "user": {
      "displayName": "Faris Qadri",
      "photoUrl": "",
      "userId": "03663442237226615559"
     },
     "user_tz": -120
    },
    "id": "ebyJ0ELCbRA-",
    "outputId": "b597bada-c49d-420b-8d59-82d1aabb1ead",
    "scrolled": true
   },
   "outputs": [
    {
     "data": {
      "text/plain": [
       "(numpy.ndarray, numpy.ndarray)"
      ]
     },
     "execution_count": 10,
     "metadata": {},
     "output_type": "execute_result"
    }
   ],
   "source": [
    "type(v), type(m)"
   ]
  },
  {
   "cell_type": "code",
   "execution_count": 11,
   "metadata": {
    "executionInfo": {
     "elapsed": 207,
     "status": "ok",
     "timestamp": 1622886987757,
     "user": {
      "displayName": "Faris Qadri",
      "photoUrl": "",
      "userId": "03663442237226615559"
     },
     "user_tz": -120
    },
    "id": "K6qIYwKbbRA-"
   },
   "outputs": [],
   "source": [
    "a = [1,2,3]"
   ]
  },
  {
   "cell_type": "code",
   "execution_count": 12,
   "metadata": {
    "colab": {
     "base_uri": "https://localhost:8080/"
    },
    "executionInfo": {
     "elapsed": 4,
     "status": "ok",
     "timestamp": 1622886989367,
     "user": {
      "displayName": "Faris Qadri",
      "photoUrl": "",
      "userId": "03663442237226615559"
     },
     "user_tz": -120
    },
    "id": "VhHdaqJ4bRA_",
    "outputId": "a03c09f0-fdb3-4824-88d7-760e809a89d8"
   },
   "outputs": [
    {
     "data": {
      "text/plain": [
       "list"
      ]
     },
     "execution_count": 12,
     "metadata": {},
     "output_type": "execute_result"
    }
   ],
   "source": [
    "type(a)"
   ]
  },
  {
   "cell_type": "markdown",
   "metadata": {
    "id": "TwVIoroRbRA_"
   },
   "source": [
    "The difference between the `v` and `m` arrays is only their shapes. We can get information about the shape of an array by using the `ndarray.shape` property."
   ]
  },
  {
   "cell_type": "code",
   "execution_count": 13,
   "metadata": {
    "colab": {
     "base_uri": "https://localhost:8080/"
    },
    "executionInfo": {
     "elapsed": 220,
     "status": "ok",
     "timestamp": 1622887013340,
     "user": {
      "displayName": "Faris Qadri",
      "photoUrl": "",
      "userId": "03663442237226615559"
     },
     "user_tz": -120
    },
    "id": "H2QNvtzibRBA",
    "outputId": "abae9ec6-2545-4242-dee8-0a90f1953b89"
   },
   "outputs": [
    {
     "data": {
      "text/plain": [
       "(5,)"
      ]
     },
     "execution_count": 13,
     "metadata": {},
     "output_type": "execute_result"
    }
   ],
   "source": [
    "v.shape"
   ]
  },
  {
   "cell_type": "code",
   "execution_count": 14,
   "metadata": {
    "colab": {
     "base_uri": "https://localhost:8080/"
    },
    "executionInfo": {
     "elapsed": 206,
     "status": "ok",
     "timestamp": 1622887015233,
     "user": {
      "displayName": "Faris Qadri",
      "photoUrl": "",
      "userId": "03663442237226615559"
     },
     "user_tz": -120
    },
    "id": "8XzBodfObRBA",
    "outputId": "70d65aae-a6d6-4135-eac2-a79806fe736d"
   },
   "outputs": [
    {
     "data": {
      "text/plain": [
       "(2, 3)"
      ]
     },
     "execution_count": 14,
     "metadata": {},
     "output_type": "execute_result"
    }
   ],
   "source": [
    "m.shape"
   ]
  },
  {
   "cell_type": "markdown",
   "metadata": {
    "id": "z68XC9qQbRBB"
   },
   "source": [
    "The number of elements in the array is available through the `ndarray.size` property"
   ]
  },
  {
   "cell_type": "code",
   "execution_count": 15,
   "metadata": {
    "colab": {
     "base_uri": "https://localhost:8080/"
    },
    "executionInfo": {
     "elapsed": 197,
     "status": "ok",
     "timestamp": 1622887021525,
     "user": {
      "displayName": "Faris Qadri",
      "photoUrl": "",
      "userId": "03663442237226615559"
     },
     "user_tz": -120
    },
    "id": "AO2p6MA7bRBB",
    "outputId": "8df57178-56eb-4190-d0e1-38ab6a9703b5"
   },
   "outputs": [
    {
     "data": {
      "text/plain": [
       "6"
      ]
     },
     "execution_count": 15,
     "metadata": {},
     "output_type": "execute_result"
    }
   ],
   "source": [
    "m.size"
   ]
  },
  {
   "cell_type": "markdown",
   "metadata": {
    "id": "G2AFOuiKbRBB"
   },
   "source": [
    "`numpy.ndarray` looks very similiar to the `list`. So, why not use the list instead?\n",
    "`numpay.ndarray` is used for several reason:\n",
    "1. Lists are very general. They can contain any kind of object. They do not support mathematical functions such as matrix and dot multiplication, etc. \n",
    "2. Numpy arrays are statically typed and homogenous. The type of the elements is determined when the array is created\n",
    "3. Numpy arrays are memory efficient\n",
    "4. It is fast for implementation of mathematical function"
   ]
  },
  {
   "cell_type": "markdown",
   "metadata": {
    "id": "CbeTRAuCbRBC"
   },
   "source": [
    "We can see the type of data of an array using `dtype`"
   ]
  },
  {
   "cell_type": "code",
   "execution_count": 17,
   "metadata": {
    "colab": {
     "base_uri": "https://localhost:8080/"
    },
    "executionInfo": {
     "elapsed": 196,
     "status": "ok",
     "timestamp": 1622887752265,
     "user": {
      "displayName": "Faris Qadri",
      "photoUrl": "",
      "userId": "03663442237226615559"
     },
     "user_tz": -120
    },
    "id": "URizRZdTbRBC",
    "outputId": "df9be742-e20c-4e6f-ef5b-7d8b6c2d541b"
   },
   "outputs": [
    {
     "data": {
      "text/plain": [
       "array([[4, 5, 6],\n",
       "       [7, 8, 9]])"
      ]
     },
     "execution_count": 17,
     "metadata": {},
     "output_type": "execute_result"
    }
   ],
   "source": [
    "one_dimension = np.array([1, 2, 3])\n",
    "\n",
    "two_dimension = np.array([[4, 5, 6],\n",
    "                          [7, 8, 9]])\n",
    "\n",
    "two_dimension\n",
    "\n"
   ]
  },
  {
   "cell_type": "code",
   "execution_count": null,
   "metadata": {},
   "outputs": [],
   "source": [
    "Tugas:\n",
    "membuat array 1 dimensi 7, \n",
    "membuat array 2 dimensi 3, 3\n",
    "membuat array 3 dimensi 4, 4, 4"
   ]
  },
  {
   "cell_type": "code",
   "execution_count": 18,
   "metadata": {
    "colab": {
     "base_uri": "https://localhost:8080/"
    },
    "executionInfo": {
     "elapsed": 302,
     "status": "ok",
     "timestamp": 1622889109721,
     "user": {
      "displayName": "Faris Qadri",
      "photoUrl": "",
      "userId": "03663442237226615559"
     },
     "user_tz": -120
    },
    "id": "zsG17e2DuNbb",
    "outputId": "46ce5d15-5158-4d84-dcdc-c3d1e71737ef"
   },
   "outputs": [
    {
     "data": {
      "text/plain": [
       "(3, 3)"
      ]
     },
     "execution_count": 18,
     "metadata": {},
     "output_type": "execute_result"
    }
   ],
   "source": [
    "# Soal kedua\n",
    "\n",
    "second_answer = np.array([[1, 2, 3],\n",
    "                          [4, 5, 6],\n",
    "                          [7, 8, 9]])\n",
    "\n",
    "# Print hasil\n",
    "second_answer\n",
    "\n",
    "# Shape\n",
    "second_answer.shape"
   ]
  },
  {
   "cell_type": "code",
   "execution_count": 19,
   "metadata": {
    "colab": {
     "base_uri": "https://localhost:8080/"
    },
    "executionInfo": {
     "elapsed": 204,
     "status": "ok",
     "timestamp": 1622889410572,
     "user": {
      "displayName": "Faris Qadri",
      "photoUrl": "",
      "userId": "03663442237226615559"
     },
     "user_tz": -120
    },
    "id": "3I_-x72AuNiV",
    "outputId": "4e491df4-85fe-4ee1-8df3-0a1c2eac3868"
   },
   "outputs": [
    {
     "data": {
      "text/plain": [
       "(4, 4, 4)"
      ]
     },
     "execution_count": 19,
     "metadata": {},
     "output_type": "execute_result"
    }
   ],
   "source": [
    "# Soal ketiga\n",
    "# Buatlah array 3 dimensi dg ashape 4, 4, 4\n",
    "\n",
    "# answer\n",
    "third_answer = np.array([[[1, 2, 3, 5],\n",
    "                          [4, 5, 6, 6],\n",
    "                          [7, 8, 9, 8],\n",
    "                          [7, 8, 9, 8]],\n",
    "                         \n",
    "                         [[1, 2, 3, 8],\n",
    "                          [4, 5, 6, 8],\n",
    "                          [7, 8, 9, 8],\n",
    "                          [7, 8, 9, 8]],\n",
    "                         \n",
    "                         [[1, 2, 3, 8],\n",
    "                          [4, 5, 6, 8],\n",
    "                          [7, 8, 9, 8],\n",
    "                          [7, 8, 9, 8]],\n",
    "                         \n",
    "                         [[1, 2, 3, 8],\n",
    "                          [4, 5, 6, 8],\n",
    "                          [7, 8, 9, 8],\n",
    "                          [7, 8, 9, 8]]])\n",
    "\n",
    "# Print hasil\n",
    "third_answer\n",
    "\n",
    "# Shape\n",
    "third_answer.shape"
   ]
  },
  {
   "cell_type": "code",
   "execution_count": 20,
   "metadata": {
    "colab": {
     "base_uri": "https://localhost:8080/"
    },
    "executionInfo": {
     "elapsed": 231,
     "status": "ok",
     "timestamp": 1622889819935,
     "user": {
      "displayName": "Faris Qadri",
      "photoUrl": "",
      "userId": "03663442237226615559"
     },
     "user_tz": -120
    },
    "id": "4ZK9qzmwuNmJ",
    "outputId": "f31f55e8-cfd0-4683-c1af-fcf274be1367"
   },
   "outputs": [
    {
     "data": {
      "text/plain": [
       "array([[1, 1, 1, 1, 1, 1, 1],\n",
       "       [1, 1, 1, 1, 1, 1, 1],\n",
       "       [1, 1, 1, 1, 1, 1, 1],\n",
       "       [1, 1, 1, 1, 1, 1, 1],\n",
       "       [1, 1, 1, 1, 1, 1, 1],\n",
       "       [1, 1, 1, 1, 1, 1, 1],\n",
       "       [1, 1, 1, 1, 1, 1, 1]])"
      ]
     },
     "execution_count": 20,
     "metadata": {},
     "output_type": "execute_result"
    }
   ],
   "source": [
    "ones = np.ones((7, 7), dtype=int)\n",
    "\n",
    "# Print ones\n",
    "ones"
   ]
  },
  {
   "cell_type": "markdown",
   "metadata": {
    "id": "Fwqnd5GBbRBD"
   },
   "source": [
    "If we want, we can explicitly define the type of the array data when we create it, using the `dtype` keyword argument: "
   ]
  },
  {
   "cell_type": "code",
   "execution_count": 41,
   "metadata": {
    "colab": {
     "base_uri": "https://localhost:8080/"
    },
    "executionInfo": {
     "elapsed": 233,
     "status": "ok",
     "timestamp": 1622887221134,
     "user": {
      "displayName": "Faris Qadri",
      "photoUrl": "",
      "userId": "03663442237226615559"
     },
     "user_tz": -120
    },
    "id": "a3s1-NUwbRBD",
    "outputId": "baedc3ad-0376-43bd-b04b-bd130d2d5707"
   },
   "outputs": [
    {
     "data": {
      "text/plain": [
       "dtype('float64')"
      ]
     },
     "execution_count": 41,
     "metadata": {
      "tags": []
     },
     "output_type": "execute_result"
    }
   ],
   "source": [
    "m = np.array([[1, 2, 3],\n",
    "              [4, 5, 6]], dtype=float)\n",
    "\n",
    "m"
   ]
  },
  {
   "cell_type": "markdown",
   "metadata": {
    "id": "z_p80GxdbRBE"
   },
   "source": [
    "Common data types that can be used with `dtype` are: `int`, `float`, `complex`, `bool`, `object`, etc."
   ]
  },
  {
   "cell_type": "markdown",
   "metadata": {
    "id": "I67QPwXQbRBE"
   },
   "source": [
    "### Create Matrix Zeros"
   ]
  },
  {
   "cell_type": "code",
   "execution_count": null,
   "metadata": {
    "id": "7aMDMTf_bRBE"
   },
   "outputs": [],
   "source": [
    "# One dimension\n",
    "\n",
    "zeros_matrix = np.zeros(5)\n",
    "\n",
    "zeros_matrix"
   ]
  },
  {
   "cell_type": "code",
   "execution_count": null,
   "metadata": {
    "id": "WI6TfbmWbRBF",
    "scrolled": true
   },
   "outputs": [],
   "source": [
    "#two dimension\n",
    "\n",
    "zeros_matrix2 = np.zeros(5,2)"
   ]
  },
  {
   "cell_type": "code",
   "execution_count": null,
   "metadata": {
    "id": "fSMDUQK4bRBF"
   },
   "outputs": [],
   "source": [
    "# should  be in tuple format\n",
    "\n",
    "zeros_matrix2 = np.zeros((5,2)) # 5 rows, 2 columns\n",
    "zeros_matrix2 "
   ]
  },
  {
   "cell_type": "markdown",
   "metadata": {
    "id": "GPoE8wpubRBG"
   },
   "source": [
    "### Matrix ones"
   ]
  },
  {
   "cell_type": "code",
   "execution_count": null,
   "metadata": {
    "id": "HnDcbS-bbRBG"
   },
   "outputs": [],
   "source": [
    "#one dimension\n",
    "\n",
    "matrix_ones = np.ones(5)\n",
    "matrix_ones "
   ]
  },
  {
   "cell_type": "code",
   "execution_count": null,
   "metadata": {
    "id": "nj1UxdizbRBG",
    "scrolled": true
   },
   "outputs": [],
   "source": [
    "#3 dimension\n",
    "\n",
    "matrix_ones2 = np.ones((3, 4, 2)) #3 rows, 4 columns, 2 depth\n",
    "matrix_ones2"
   ]
  },
  {
   "cell_type": "markdown",
   "metadata": {
    "id": "25kNOyrbbRBH"
   },
   "source": [
    "## > Exercise 1"
   ]
  },
  {
   "cell_type": "markdown",
   "metadata": {
    "id": "_BgYHoShbRBH"
   },
   "source": [
    "1. Create a matrix from a list which has 4 rows and 3 columns"
   ]
  },
  {
   "cell_type": "code",
   "execution_count": 27,
   "metadata": {
    "id": "dHInjyI4bRBI"
   },
   "outputs": [
    {
     "data": {
      "text/plain": [
       "array([[ 1,  2,  3],\n",
       "       [ 4,  5,  6],\n",
       "       [ 7,  8,  9],\n",
       "       [10, 11, 12]])"
      ]
     },
     "execution_count": 27,
     "metadata": {},
     "output_type": "execute_result"
    }
   ],
   "source": [
    "m1 = np.array([[1, 2, 3],\n",
    "               [4, 5, 6],\n",
    "               [7, 8, 9],\n",
    "               [10,11,12]])\n",
    "m1"
   ]
  },
  {
   "cell_type": "code",
   "execution_count": 28,
   "metadata": {},
   "outputs": [
    {
     "data": {
      "text/plain": [
       "(4, 3)"
      ]
     },
     "execution_count": 28,
     "metadata": {},
     "output_type": "execute_result"
    }
   ],
   "source": [
    "m1.shape"
   ]
  },
  {
   "cell_type": "markdown",
   "metadata": {
    "id": "T2e3fxzabRBI"
   },
   "source": [
    "2. Create the following matrix\n",
    "![](image/lat11.png)"
   ]
  },
  {
   "cell_type": "code",
   "execution_count": 29,
   "metadata": {
    "id": "IdbyzIxPbRBJ"
   },
   "outputs": [
    {
     "data": {
      "text/plain": [
       "array([[ 2,  7, 12,  0],\n",
       "       [ 3,  9,  3,  4],\n",
       "       [ 4,  0,  1,  3]])"
      ]
     },
     "execution_count": 29,
     "metadata": {},
     "output_type": "execute_result"
    }
   ],
   "source": [
    "m2 = np.array([\n",
    "                [2,7,12,0],\n",
    "                [3,9,3,4],\n",
    "                [4,0,1,3]\n",
    "            ])\n",
    "m2"
   ]
  },
  {
   "cell_type": "markdown",
   "metadata": {
    "id": "2Jz9Eq1FbRBK"
   },
   "source": [
    "3. Create a 2D matrix with size of 10"
   ]
  },
  {
   "cell_type": "code",
   "execution_count": 30,
   "metadata": {
    "id": "AU4abNUEbRBK"
   },
   "outputs": [
    {
     "data": {
      "text/plain": [
       "array([[ 1,  2,  3,  4,  5],\n",
       "       [ 6,  7,  8,  9, 10]])"
      ]
     },
     "execution_count": 30,
     "metadata": {},
     "output_type": "execute_result"
    }
   ],
   "source": [
    "cara1 = np.array([\n",
    "                 [1,2,3,4,5],\n",
    "                 [6,7,8,9,10]\n",
    "                ])\n",
    "cara1"
   ]
  },
  {
   "cell_type": "code",
   "execution_count": 36,
   "metadata": {
    "id": "sP_Smx9KbRBK",
    "scrolled": true
   },
   "outputs": [
    {
     "data": {
      "text/plain": [
       "array([[0., 0., 0., 0., 0., 0., 0., 0., 0., 0.]])"
      ]
     },
     "execution_count": 36,
     "metadata": {},
     "output_type": "execute_result"
    }
   ],
   "source": [
    "cara2 = np.zeros((1,10))\n",
    "cara2"
   ]
  },
  {
   "cell_type": "code",
   "execution_count": 37,
   "metadata": {
    "id": "7o8RK_eubRBK"
   },
   "outputs": [
    {
     "data": {
      "text/plain": [
       "array([[1, 2],\n",
       "       [2, 2],\n",
       "       [2, 1],\n",
       "       [3, 3],\n",
       "       [4, 5]])"
      ]
     },
     "execution_count": 37,
     "metadata": {},
     "output_type": "execute_result"
    }
   ],
   "source": [
    "cara3 = np.array([[1,2],\n",
    "                 [2,2],\n",
    "                 [2,1],\n",
    "                 [3,3],\n",
    "                 [4,5]])\n",
    "cara3"
   ]
  },
  {
   "cell_type": "code",
   "execution_count": 38,
   "metadata": {
    "id": "kLNZ5x-lbRBK",
    "scrolled": false
   },
   "outputs": [
    {
     "data": {
      "text/plain": [
       "array([[ 1],\n",
       "       [ 2],\n",
       "       [ 2],\n",
       "       [ 3],\n",
       "       [ 4],\n",
       "       [ 9],\n",
       "       [10],\n",
       "       [10],\n",
       "       [ 7],\n",
       "       [ 1]])"
      ]
     },
     "execution_count": 38,
     "metadata": {},
     "output_type": "execute_result"
    }
   ],
   "source": [
    "cara4 = np.array([[1],\n",
    "                 [2],\n",
    "                 [2],\n",
    "                 [3],\n",
    "                 [4],\n",
    "                 [9],\n",
    "                 [10],\n",
    "                 [10],\n",
    "                 [7],\n",
    "                 [1]])\n",
    "cara4"
   ]
  },
  {
   "cell_type": "code",
   "execution_count": 39,
   "metadata": {
    "id": "QoYMPH32bRBL"
   },
   "outputs": [
    {
     "name": "stdout",
     "output_type": "stream",
     "text": [
      "Size cara1:  10\n",
      "Size cara2:  10\n",
      "Size cara3:  10\n",
      "Size cara4:  10\n"
     ]
    }
   ],
   "source": [
    "print(\"Size cara1: \", cara1.size)\n",
    "print(\"Size cara2: \", cara2.size)\n",
    "print(\"Size cara3: \", cara3.size)\n",
    "print(\"Size cara4: \", cara4.size)"
   ]
  },
  {
   "cell_type": "code",
   "execution_count": 40,
   "metadata": {
    "id": "pHF9mcDSbRBM"
   },
   "outputs": [
    {
     "name": "stdout",
     "output_type": "stream",
     "text": [
      "Shape cara1:  (2, 5)\n",
      "Shape cara2:  (1, 10)\n",
      "Shape cara3:  (5, 2)\n",
      "Shape cara4:  (10, 1)\n"
     ]
    }
   ],
   "source": [
    "print(\"Shape cara1: \", cara1.shape)\n",
    "print(\"Shape cara2: \", cara2.shape)\n",
    "print(\"Shape cara3: \", cara3.shape)\n",
    "print(\"Shape cara4: \", cara4.shape)"
   ]
  },
  {
   "cell_type": "markdown",
   "metadata": {
    "id": "pwiOD7uIbRBN"
   },
   "source": [
    "4. Create a 3D matrix of ones which has 2 rows, 3 columns, and 3 depth"
   ]
  },
  {
   "cell_type": "code",
   "execution_count": 42,
   "metadata": {
    "id": "JMsWdM-qbRBN",
    "outputId": "866fe43e-e862-46ec-d267-3a1534561a05",
    "scrolled": true
   },
   "outputs": [
    {
     "data": {
      "text/plain": [
       "array([[[1, 2, 3],\n",
       "        [4, 5, 6],\n",
       "        [7, 8, 9]],\n",
       "\n",
       "       [[6, 2, 3],\n",
       "        [4, 5, 8],\n",
       "        [8, 8, 9]]])"
      ]
     },
     "execution_count": 42,
     "metadata": {},
     "output_type": "execute_result"
    }
   ],
   "source": [
    "m4 = np.array([[[1, 2, 3],\n",
    "        [4, 5, 6],\n",
    "        [7, 8, 9]],\n",
    "\n",
    "       [[6, 2, 3],\n",
    "        [4, 5, 8],\n",
    "        [8, 8, 9]]])\n",
    "m4"
   ]
  },
  {
   "cell_type": "code",
   "execution_count": 43,
   "metadata": {
    "id": "tgwASRppbRBO",
    "outputId": "2a315c06-f0c3-4536-95d3-eb5cb3101ee2"
   },
   "outputs": [
    {
     "data": {
      "text/plain": [
       "(2, 3, 3)"
      ]
     },
     "execution_count": 43,
     "metadata": {},
     "output_type": "execute_result"
    }
   ],
   "source": [
    "m4.shape"
   ]
  },
  {
   "cell_type": "markdown",
   "metadata": {
    "id": "7Kz3qK4dbRBO"
   },
   "source": [
    "5. Make the following arrays from zeros arrays and with for loops\n",
    "![](image/exercise1.png)"
   ]
  },
  {
   "cell_type": "code",
   "execution_count": 47,
   "metadata": {
    "id": "kRY2kz27bRBO",
    "outputId": "000f7ae0-0453-47e8-f9f8-82798a2cf8c5",
    "scrolled": true
   },
   "outputs": [
    {
     "data": {
      "text/plain": [
       "array([[0., 0., 0.],\n",
       "       [0., 0., 0.],\n",
       "       [0., 0., 0.],\n",
       "       [0., 0., 0.],\n",
       "       [0., 0., 0.]])"
      ]
     },
     "execution_count": 47,
     "metadata": {},
     "output_type": "execute_result"
    }
   ],
   "source": [
    "my_array = np.zeros((5,3))\n",
    "my_array"
   ]
  },
  {
   "cell_type": "code",
   "execution_count": 45,
   "metadata": {
    "id": "wOuAp1u2bRBP",
    "outputId": "081d5bc0-08e4-4bf6-aaf6-cf454fe7d91a"
   },
   "outputs": [
    {
     "name": "stdout",
     "output_type": "stream",
     "text": [
      "[2. 2. 2.]\n",
      "[2. 2. 2.]\n",
      "[2. 2. 2.]\n",
      "[2. 2. 2.]\n",
      "[2. 2. 2.]\n"
     ]
    }
   ],
   "source": [
    "for i in my_array:\n",
    "    print(i+2)"
   ]
  },
  {
   "cell_type": "markdown",
   "metadata": {
    "id": "B5CVd2hJbRBP"
   },
   "source": [
    "### Using array-generating functions"
   ]
  },
  {
   "cell_type": "markdown",
   "metadata": {
    "id": "dDqBSqvlbRBP"
   },
   "source": [
    "For larger arrays it is inpractical to initialize the data manually, using explicit python lists. Instead we can use one of the many functions in `numpy` that generate arrays of different forms. Some of the more common are:"
   ]
  },
  {
   "cell_type": "markdown",
   "metadata": {
    "id": "EMAUDIaEbRBP"
   },
   "source": [
    "**arange**"
   ]
  },
  {
   "cell_type": "code",
   "execution_count": 48,
   "metadata": {
    "id": "FNkLSpyAbRBQ",
    "outputId": "fc803600-d65d-42bc-db14-a71dce95b90f"
   },
   "outputs": [
    {
     "data": {
      "text/plain": [
       "array([0, 1, 2, 3, 4, 5, 6, 7, 8, 9])"
      ]
     },
     "execution_count": 48,
     "metadata": {},
     "output_type": "execute_result"
    }
   ],
   "source": [
    "# create a range\n",
    "\n",
    "x = np.arange(10)\n",
    "\n",
    "x"
   ]
  },
  {
   "cell_type": "code",
   "execution_count": 49,
   "metadata": {
    "id": "TYPfSxyVbRBQ",
    "outputId": "2b3d01eb-e7e1-4d7f-b568-f343e99d48d4"
   },
   "outputs": [
    {
     "name": "stdout",
     "output_type": "stream",
     "text": [
      "0\n",
      "1\n",
      "2\n",
      "3\n",
      "4\n",
      "5\n",
      "6\n",
      "7\n",
      "8\n",
      "9\n"
     ]
    }
   ],
   "source": [
    "for i in range(10):\n",
    "    print(i)"
   ]
  },
  {
   "cell_type": "code",
   "execution_count": 50,
   "metadata": {
    "id": "ZxKjpgujbRBQ",
    "outputId": "0d7b98e3-899a-486d-a732-6451f8897494"
   },
   "outputs": [
    {
     "data": {
      "text/plain": [
       "array([10, 11, 12, 13, 14, 15, 16, 17, 18, 19])"
      ]
     },
     "execution_count": 50,
     "metadata": {},
     "output_type": "execute_result"
    }
   ],
   "source": [
    "# create a range\n",
    "\n",
    "x = np.arange(10, 20) # arguments: start, stop\n",
    "\n",
    "x"
   ]
  },
  {
   "cell_type": "code",
   "execution_count": 51,
   "metadata": {
    "id": "EHkFanbqbRBQ",
    "outputId": "9104d601-a518-4758-fc7e-ef2cacb0d84c"
   },
   "outputs": [
    {
     "data": {
      "text/plain": [
       "array([10, 12, 14, 16, 18])"
      ]
     },
     "execution_count": 51,
     "metadata": {},
     "output_type": "execute_result"
    }
   ],
   "source": [
    "# create a range\n",
    "\n",
    "x = np.arange(10, 20, 2) # arguments: start, stop, step\n",
    "\n",
    "x"
   ]
  },
  {
   "cell_type": "code",
   "execution_count": null,
   "metadata": {
    "id": "YVd2r_Z4bRBR",
    "outputId": "3f182348-4402-4db2-c8dd-c3571de0d05f",
    "scrolled": true
   },
   "outputs": [
    {
     "data": {
      "text/plain": [
       "array([-1.00000000e+00, -9.00000000e-01, -8.00000000e-01, -7.00000000e-01,\n",
       "       -6.00000000e-01, -5.00000000e-01, -4.00000000e-01, -3.00000000e-01,\n",
       "       -2.00000000e-01, -1.00000000e-01, -2.22044605e-16,  1.00000000e-01,\n",
       "        2.00000000e-01,  3.00000000e-01,  4.00000000e-01,  5.00000000e-01,\n",
       "        6.00000000e-01,  7.00000000e-01,  8.00000000e-01,  9.00000000e-01])"
      ]
     },
     "execution_count": 18,
     "metadata": {
      "tags": []
     },
     "output_type": "execute_result"
    }
   ],
   "source": [
    "x = np.arange(-1, 1, 0.1)\n",
    "\n",
    "x"
   ]
  },
  {
   "cell_type": "markdown",
   "metadata": {
    "id": "xI8woCombRBR"
   },
   "source": [
    "The number 9.00000000e-01 already is a floating point number.\n",
    "It's written in scientific notation and is equivalent to 9 * 10**-1 or 0.9."
   ]
  },
  {
   "cell_type": "markdown",
   "metadata": {
    "id": "TUTEbxXNbRBR"
   },
   "source": [
    "#### linspace"
   ]
  },
  {
   "cell_type": "code",
   "execution_count": 52,
   "metadata": {
    "id": "uSYK0bMWbRBR",
    "outputId": "10cf257f-66ee-49ff-f5e6-4380eba34343"
   },
   "outputs": [
    {
     "data": {
      "text/plain": [
       "array([ 0.        ,  1.11111111,  2.22222222,  3.33333333,  4.44444444,\n",
       "        5.55555556,  6.66666667,  7.77777778,  8.88888889, 10.        ])"
      ]
     },
     "execution_count": 52,
     "metadata": {},
     "output_type": "execute_result"
    }
   ],
   "source": [
    "# using linspace, both end points ARE included\n",
    "np.linspace(0, 10, 10) #Unlike arange that uses step, linspace uses the number of sample"
   ]
  },
  {
   "cell_type": "code",
   "execution_count": 53,
   "metadata": {},
   "outputs": [
    {
     "data": {
      "text/plain": [
       "array([0.        , 0.44444444, 0.88888889, 1.33333333, 1.77777778,\n",
       "       2.22222222, 2.66666667, 3.11111111, 3.55555556, 4.        ])"
      ]
     },
     "execution_count": 53,
     "metadata": {},
     "output_type": "execute_result"
    }
   ],
   "source": [
    "np.linspace(0, 4, 10)"
   ]
  },
  {
   "cell_type": "markdown",
   "metadata": {
    "id": "gPWDRITobRBR"
   },
   "source": [
    "#### random data"
   ]
  },
  {
   "cell_type": "code",
   "execution_count": 9,
   "metadata": {
    "id": "bPCIooeCbRBS"
   },
   "outputs": [],
   "source": [
    "from numpy import random"
   ]
  },
  {
   "cell_type": "code",
   "execution_count": 56,
   "metadata": {
    "id": "KIQXrTXxbRBS",
    "outputId": "068029e4-26f9-4d12-b526-9b9a8149532d"
   },
   "outputs": [
    {
     "data": {
      "text/plain": [
       "array([[0.74142264, 0.00287873, 0.41870391, 0.60136251, 0.19125155],\n",
       "       [0.42324721, 0.56917535, 0.14552886, 0.65265263, 0.07118441],\n",
       "       [0.92031812, 0.31946327, 0.96840773, 0.32492249, 0.08795903],\n",
       "       [0.81583197, 0.13275747, 0.32283983, 0.55422854, 0.24106127],\n",
       "       [0.94275134, 0.25740052, 0.45810315, 0.76878232, 0.08615463]])"
      ]
     },
     "execution_count": 56,
     "metadata": {},
     "output_type": "execute_result"
    }
   ],
   "source": [
    "#uniform random numbers in [0,1]\n",
    "random.rand(5,5)"
   ]
  },
  {
   "cell_type": "code",
   "execution_count": 58,
   "metadata": {
    "id": "jtXeFxb1bRBS",
    "outputId": "2226b3da-79d8-40f6-9bb7-fae42ab93628",
    "scrolled": false
   },
   "outputs": [
    {
     "data": {
      "text/plain": [
       "array([[-1.37578842, -0.57137928,  0.34216708,  1.59291335,  0.10543515],\n",
       "       [ 2.76549456,  0.35798113, -0.27127315, -0.41251831, -1.08873489],\n",
       "       [-0.24574141, -1.42449962,  0.88308449, -0.60798628,  0.22274306],\n",
       "       [-0.56319539, -0.06502403,  1.08849425,  0.7076125 , -0.30883209],\n",
       "       [ 0.33208041,  0.93769773,  1.33041098,  0.27414637, -1.09041171]])"
      ]
     },
     "execution_count": 58,
     "metadata": {},
     "output_type": "execute_result"
    }
   ],
   "source": [
    "# standard normal distributed random numbers\n",
    "x = random.randn(5,5)\n",
    "x"
   ]
  },
  {
   "cell_type": "code",
   "execution_count": 61,
   "metadata": {
    "id": "wk_m_uW5bRBS",
    "outputId": "a1e3014e-2834-4c35-c31f-5d4860e3d801",
    "scrolled": true
   },
   "outputs": [
    {
     "data": {
      "text/plain": [
       "dtype('float64')"
      ]
     },
     "execution_count": 61,
     "metadata": {},
     "output_type": "execute_result"
    }
   ],
   "source": [
    "x.dtype"
   ]
  },
  {
   "cell_type": "code",
   "execution_count": null,
   "metadata": {
    "id": "51Kd1ry3bRBS",
    "outputId": "3bbcb218-d607-48df-885e-18f42d52da46",
    "scrolled": true
   },
   "outputs": [
    {
     "data": {
      "text/plain": [
       "array([1, 1], dtype=int64)"
      ]
     },
     "execution_count": 27,
     "metadata": {
      "tags": []
     },
     "output_type": "execute_result"
    }
   ],
   "source": [
    "x = np.ones(2, dtype = np.int64)\n",
    "x"
   ]
  },
  {
   "cell_type": "code",
   "execution_count": 66,
   "metadata": {
    "id": "tsbdFpK3bRBT",
    "outputId": "7727a8c6-d351-44fe-e7ba-20530bd03ee9"
   },
   "outputs": [
    {
     "data": {
      "text/plain": [
       "6"
      ]
     },
     "execution_count": 66,
     "metadata": {},
     "output_type": "execute_result"
    }
   ],
   "source": [
    "random.randint(10)"
   ]
  },
  {
   "cell_type": "code",
   "execution_count": 73,
   "metadata": {
    "id": "lIVWp-CfbRBT",
    "outputId": "0a483c5e-0a55-45ed-e688-696ad0caebf5"
   },
   "outputs": [
    {
     "data": {
      "text/plain": [
       "array([2, 3, 2, 6])"
      ]
     },
     "execution_count": 73,
     "metadata": {},
     "output_type": "execute_result"
    }
   ],
   "source": [
    "random.randint(2, 10, size=4)"
   ]
  },
  {
   "cell_type": "code",
   "execution_count": 76,
   "metadata": {
    "id": "MGm4TSX6bRBT",
    "outputId": "89500dbb-8d4a-49a9-a349-f7ebdd0ec91a"
   },
   "outputs": [
    {
     "data": {
      "text/plain": [
       "array([[[7, 3],\n",
       "        [6, 9]],\n",
       "\n",
       "       [[3, 2],\n",
       "        [6, 6]],\n",
       "\n",
       "       [[5, 7],\n",
       "        [7, 7]],\n",
       "\n",
       "       [[9, 5],\n",
       "        [6, 5]]])"
      ]
     },
     "execution_count": 76,
     "metadata": {},
     "output_type": "execute_result"
    }
   ],
   "source": [
    "random.randint(2, 10, size=(4,2,2))"
   ]
  },
  {
   "cell_type": "markdown",
   "metadata": {
    "id": "Gze7Tgw-bRBT"
   },
   "source": [
    "## Exercise 2"
   ]
  },
  {
   "cell_type": "markdown",
   "metadata": {
    "id": "0FUaPAGJbRBT"
   },
   "source": [
    "1. Generate a 1-D array containing 5 random integers from 0 to 100:"
   ]
  },
  {
   "cell_type": "code",
   "execution_count": null,
   "metadata": {
    "id": "TSt9ojMqbRBT",
    "outputId": "7f14bef9-910a-4a91-bab2-c3e480c8ab72"
   },
   "outputs": [
    {
     "data": {
      "text/plain": [
       "array([83, 75, 78,  6, 31])"
      ]
     },
     "execution_count": 37,
     "metadata": {
      "tags": []
     },
     "output_type": "execute_result"
    }
   ],
   "source": [
    "random.randint(0,100, size=5)"
   ]
  },
  {
   "cell_type": "markdown",
   "metadata": {
    "id": "AYEccXKabRBU"
   },
   "source": [
    "2. Generate a 2-D array with 3 rows, each row contains 5 random integers from 0 to 100"
   ]
  },
  {
   "cell_type": "code",
   "execution_count": 77,
   "metadata": {
    "id": "09ycp9PmbRBU"
   },
   "outputs": [
    {
     "data": {
      "text/plain": [
       "array([[70, 12, 42, 17, 58],\n",
       "       [47, 81, 19, 88, 55],\n",
       "       [96, 13, 61, 74,  2]])"
      ]
     },
     "execution_count": 77,
     "metadata": {},
     "output_type": "execute_result"
    }
   ],
   "source": [
    "random.randint(1,100 , size=(3,5))"
   ]
  },
  {
   "cell_type": "markdown",
   "metadata": {
    "id": "SXwkjuUcbRBU"
   },
   "source": [
    "3. Generate a 1-D array of 30 evenly spaced elements between 1.5 and 5.5, inclusive."
   ]
  },
  {
   "cell_type": "code",
   "execution_count": 78,
   "metadata": {},
   "outputs": [],
   "source": [
    "x = np.linspace(1.5,5.5,30)"
   ]
  },
  {
   "cell_type": "code",
   "execution_count": 79,
   "metadata": {},
   "outputs": [
    {
     "data": {
      "text/plain": [
       "array([1.5       , 1.63793103, 1.77586207, 1.9137931 , 2.05172414,\n",
       "       2.18965517, 2.32758621, 2.46551724, 2.60344828, 2.74137931,\n",
       "       2.87931034, 3.01724138, 3.15517241, 3.29310345, 3.43103448,\n",
       "       3.56896552, 3.70689655, 3.84482759, 3.98275862, 4.12068966,\n",
       "       4.25862069, 4.39655172, 4.53448276, 4.67241379, 4.81034483,\n",
       "       4.94827586, 5.0862069 , 5.22413793, 5.36206897, 5.5       ])"
      ]
     },
     "execution_count": 79,
     "metadata": {},
     "output_type": "execute_result"
    }
   ],
   "source": [
    "x"
   ]
  },
  {
   "cell_type": "code",
   "execution_count": null,
   "metadata": {},
   "outputs": [],
   "source": []
  }
 ],
 "metadata": {
  "colab": {
   "name": "Pert1_Numpy.ipynb",
   "provenance": []
  },
  "kernelspec": {
   "display_name": "Python 3",
   "language": "python",
   "name": "python3"
  },
  "language_info": {
   "codemirror_mode": {
    "name": "ipython",
    "version": 3
   },
   "file_extension": ".py",
   "mimetype": "text/x-python",
   "name": "python",
   "nbconvert_exporter": "python",
   "pygments_lexer": "ipython3",
   "version": "3.8.8"
  }
 },
 "nbformat": 4,
 "nbformat_minor": 1
}
